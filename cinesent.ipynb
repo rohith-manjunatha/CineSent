{
 "cells": [
  {
   "cell_type": "code",
   "execution_count": 1,
   "id": "2dfe9585",
   "metadata": {},
   "outputs": [],
   "source": [
    "# Importing required Libraries\n",
    "import time\n",
    "import requests\n",
    "from bs4 import BeautifulSoup\n",
    "from selenium import webdriver\n",
    "import pandas as pd\n",
    "from selenium.webdriver.common.keys import Keys\n",
    "from selenium.webdriver.common.by import By\n",
    "from selenium.webdriver.support.ui import WebDriverWait\n",
    "from selenium.webdriver.support import expected_conditions as EC"
   ]
  },
  {
   "cell_type": "markdown",
   "id": "460f3ec9",
   "metadata": {},
   "source": [
    "# 1. Create your own dataset for text classification. It should contain at least 1000 words in total and at least two categories with at least 100 examples per category. You can create it by scraping the web or using some of the documents you have on your computer (do not use anything confidential)."
   ]
  },
  {
   "cell_type": "markdown",
   "id": "8065f8eb",
   "metadata": {},
   "source": [
    "Using web scraping to create personal dataset. Web scraping reviews for Ant-Man and the Wasp: Quantumania from IMDB website."
   ]
  },
  {
   "cell_type": "code",
   "execution_count": 2,
   "id": "6c5287a2",
   "metadata": {},
   "outputs": [],
   "source": [
    "def get_reviews(num_reviews_to_scrape):\n",
    "    reviewer_names = []\n",
    "    review_dates = []\n",
    "    review_titles = []\n",
    "    review_texts = []\n",
    "    user_ratings = []\n",
    "    review_sentiments = []\n",
    "\n",
    "    # set up the webdriver and navigate to the movie's reviews page\n",
    "    driver = webdriver.Chrome()\n",
    "    driver.get('https://www.imdb.com/title/tt10954600/reviews')\n",
    "\n",
    "    # loop through each page of reviews until we scrape enough reviews\n",
    "    while num_reviews_to_scrape > 0:\n",
    "        # wait for the \"load more\" button to be clickable\n",
    "        try:\n",
    "            load_more_button = WebDriverWait(driver, 10).until(EC.element_to_be_clickable((By.XPATH, '//button[@id=\"load-more-trigger\"]')))\n",
    "        except:\n",
    "            break\n",
    "\n",
    "        # click the \"load more\" button and wait for more reviews to load\n",
    "        load_more_button.click()\n",
    "        time.sleep(5)\n",
    "\n",
    "        # parse the HTML content using BeautifulSoup\n",
    "        soup = BeautifulSoup(driver.page_source, 'html.parser')\n",
    "\n",
    "        # find all the review blocks\n",
    "        review_blocks = soup.find_all('div', class_='review-container')\n",
    "\n",
    "        # loop through each review block and extract relevant information\n",
    "        for review_block in review_blocks:\n",
    "            # extract the reviewer name and date\n",
    "            reviewer_name = review_block.find('span', class_='display-name-link').text.strip()\n",
    "            review_date = review_block.find('span', class_='review-date').text.strip()\n",
    "\n",
    "            # extract the review title and text\n",
    "            review_title = review_block.find('a', class_='title').text.strip()\n",
    "            review_text = review_block.find('div', class_='text').text.strip()\n",
    "\n",
    "            # extract the rating that the user gave\n",
    "            rating = review_block.find('span', class_='rating-other-user-rating')\n",
    "            if rating:\n",
    "                rating_value = rating.find('span').text.strip()\n",
    "            else:\n",
    "                continue\n",
    "            # If the rating is greater than or equal to 7.0, then the rating is flagged as positive else negative\n",
    "            if float(rating_value) >= 7.0:\n",
    "                review_sentiments.append('positive')\n",
    "            else:\n",
    "                review_sentiments.append('negative')\n",
    "                \n",
    "            # store the extracted information in the corresponding lists\n",
    "            reviewer_names.append(reviewer_name)\n",
    "            review_dates.append(review_date)\n",
    "            review_titles.append(review_title)\n",
    "            review_texts.append(review_text)\n",
    "            user_ratings.append(rating_value)\n",
    "\n",
    "            # decrement the number of reviews remaining to be scraped\n",
    "            num_reviews_to_scrape -= 1\n",
    "            if num_reviews_to_scrape == 0:\n",
    "                break\n",
    "\n",
    "        # check if all reviews have been loaded\n",
    "        if not load_more_button.is_enabled():\n",
    "            break\n",
    "\n",
    "    # close the webdriver\n",
    "    driver.quit()\n",
    "    \n",
    "    # create a DataFrame with the scraped data\n",
    "    df = pd.DataFrame({'rating': review_sentiments, 'review': review_texts})\n",
    "    \n",
    "    return df\n"
   ]
  },
  {
   "cell_type": "code",
   "execution_count": 3,
   "id": "7b0b52a8",
   "metadata": {},
   "outputs": [],
   "source": [
    "# get 1000 reviews\n",
    "df = get_reviews(1000)"
   ]
  },
  {
   "cell_type": "code",
   "execution_count": 4,
   "id": "d0efcb7b",
   "metadata": {
    "scrolled": true
   },
   "outputs": [
    {
     "data": {
      "text/html": [
       "<div>\n",
       "<style scoped>\n",
       "    .dataframe tbody tr th:only-of-type {\n",
       "        vertical-align: middle;\n",
       "    }\n",
       "\n",
       "    .dataframe tbody tr th {\n",
       "        vertical-align: top;\n",
       "    }\n",
       "\n",
       "    .dataframe thead th {\n",
       "        text-align: right;\n",
       "    }\n",
       "</style>\n",
       "<table border=\"1\" class=\"dataframe\">\n",
       "  <thead>\n",
       "    <tr style=\"text-align: right;\">\n",
       "      <th></th>\n",
       "      <th>rating</th>\n",
       "      <th>review</th>\n",
       "    </tr>\n",
       "  </thead>\n",
       "  <tbody>\n",
       "    <tr>\n",
       "      <th>0</th>\n",
       "      <td>negative</td>\n",
       "      <td>After most entries in Phase 4 passed by withou...</td>\n",
       "    </tr>\n",
       "    <tr>\n",
       "      <th>1</th>\n",
       "      <td>positive</td>\n",
       "      <td>Well, I'll start off by saying that this wasn'...</td>\n",
       "    </tr>\n",
       "    <tr>\n",
       "      <th>2</th>\n",
       "      <td>negative</td>\n",
       "      <td>As a huge fan of the first one, and almost as ...</td>\n",
       "    </tr>\n",
       "    <tr>\n",
       "      <th>3</th>\n",
       "      <td>negative</td>\n",
       "      <td>Well it's happened. The MCU has run out of gas...</td>\n",
       "    </tr>\n",
       "    <tr>\n",
       "      <th>4</th>\n",
       "      <td>negative</td>\n",
       "      <td>New Ant-Man is not a bad movie, but it's repea...</td>\n",
       "    </tr>\n",
       "    <tr>\n",
       "      <th>5</th>\n",
       "      <td>negative</td>\n",
       "      <td>I enjoyed watching Quantumania. It's a mostly ...</td>\n",
       "    </tr>\n",
       "    <tr>\n",
       "      <th>6</th>\n",
       "      <td>negative</td>\n",
       "      <td>\"Ant-Man and the Wasp: Quantumania\" is the fir...</td>\n",
       "    </tr>\n",
       "    <tr>\n",
       "      <th>7</th>\n",
       "      <td>positive</td>\n",
       "      <td>LIKES:The Graphics/World Design\\n-Marvel reall...</td>\n",
       "    </tr>\n",
       "    <tr>\n",
       "      <th>8</th>\n",
       "      <td>positive</td>\n",
       "      <td>Ant-Man's 3rd solo outting. Doubling down on t...</td>\n",
       "    </tr>\n",
       "    <tr>\n",
       "      <th>9</th>\n",
       "      <td>negative</td>\n",
       "      <td>Where do I even begin? They somehow made a mov...</td>\n",
       "    </tr>\n",
       "  </tbody>\n",
       "</table>\n",
       "</div>"
      ],
      "text/plain": [
       "     rating                                             review\n",
       "0  negative  After most entries in Phase 4 passed by withou...\n",
       "1  positive  Well, I'll start off by saying that this wasn'...\n",
       "2  negative  As a huge fan of the first one, and almost as ...\n",
       "3  negative  Well it's happened. The MCU has run out of gas...\n",
       "4  negative  New Ant-Man is not a bad movie, but it's repea...\n",
       "5  negative  I enjoyed watching Quantumania. It's a mostly ...\n",
       "6  negative  \"Ant-Man and the Wasp: Quantumania\" is the fir...\n",
       "7  positive  LIKES:The Graphics/World Design\\n-Marvel reall...\n",
       "8  positive  Ant-Man's 3rd solo outting. Doubling down on t...\n",
       "9  negative  Where do I even begin? They somehow made a mov..."
      ]
     },
     "execution_count": 4,
     "metadata": {},
     "output_type": "execute_result"
    }
   ],
   "source": [
    "df.head(10)"
   ]
  },
  {
   "cell_type": "code",
   "execution_count": 5,
   "id": "1cea0f18",
   "metadata": {},
   "outputs": [
    {
     "data": {
      "text/plain": [
       "(1000, 2)"
      ]
     },
     "execution_count": 5,
     "metadata": {},
     "output_type": "execute_result"
    }
   ],
   "source": [
    "df.shape"
   ]
  },
  {
   "cell_type": "code",
   "execution_count": 6,
   "id": "b31a85af",
   "metadata": {
    "scrolled": true
   },
   "outputs": [
    {
     "data": {
      "text/html": [
       "<div>\n",
       "<style scoped>\n",
       "    .dataframe tbody tr th:only-of-type {\n",
       "        vertical-align: middle;\n",
       "    }\n",
       "\n",
       "    .dataframe tbody tr th {\n",
       "        vertical-align: top;\n",
       "    }\n",
       "\n",
       "    .dataframe thead th {\n",
       "        text-align: right;\n",
       "    }\n",
       "</style>\n",
       "<table border=\"1\" class=\"dataframe\">\n",
       "  <thead>\n",
       "    <tr style=\"text-align: right;\">\n",
       "      <th></th>\n",
       "      <th>rating</th>\n",
       "      <th>review</th>\n",
       "    </tr>\n",
       "  </thead>\n",
       "  <tbody>\n",
       "    <tr>\n",
       "      <th>count</th>\n",
       "      <td>1000</td>\n",
       "      <td>1000</td>\n",
       "    </tr>\n",
       "    <tr>\n",
       "      <th>unique</th>\n",
       "      <td>2</td>\n",
       "      <td>197</td>\n",
       "    </tr>\n",
       "    <tr>\n",
       "      <th>top</th>\n",
       "      <td>positive</td>\n",
       "      <td>After most entries in Phase 4 passed by withou...</td>\n",
       "    </tr>\n",
       "    <tr>\n",
       "      <th>freq</th>\n",
       "      <td>618</td>\n",
       "      <td>8</td>\n",
       "    </tr>\n",
       "  </tbody>\n",
       "</table>\n",
       "</div>"
      ],
      "text/plain": [
       "          rating                                             review\n",
       "count       1000                                               1000\n",
       "unique         2                                                197\n",
       "top     positive  After most entries in Phase 4 passed by withou...\n",
       "freq         618                                                  8"
      ]
     },
     "execution_count": 6,
     "metadata": {},
     "output_type": "execute_result"
    }
   ],
   "source": [
    "df.describe()"
   ]
  },
  {
   "cell_type": "markdown",
   "id": "73584297",
   "metadata": {},
   "source": [
    "Adding the data into a CSV file "
   ]
  },
  {
   "cell_type": "code",
   "execution_count": 7,
   "id": "650820e7",
   "metadata": {},
   "outputs": [],
   "source": [
    "df.to_csv('my_dataset.csv',index=False)"
   ]
  },
  {
   "cell_type": "code",
   "execution_count": 8,
   "id": "7495be79",
   "metadata": {
    "scrolled": true
   },
   "outputs": [
    {
     "data": {
      "text/plain": [
       "<AxesSubplot:>"
      ]
     },
     "execution_count": 8,
     "metadata": {},
     "output_type": "execute_result"
    },
    {
     "data": {
      "image/png": "[encoded data removed]",
      "text/plain": [
       "<Figure size 432x288 with 1 Axes>"
      ]
     },
     "metadata": {
      "needs_background": "light"
     },
     "output_type": "display_data"
    }
   ],
   "source": [
    "df['rating'].hist()"
   ]
  },
  {
   "cell_type": "code",
   "execution_count": 9,
   "id": "-DmBdvbeq3w_",
   "metadata": {
    "id": "-DmBdvbeq3w_"
   },
   "outputs": [],
   "source": [
    "X=list(df['review'])"
   ]
  },
  {
   "cell_type": "code",
   "execution_count": 10,
   "id": "E9uOH942rNZ_",
   "metadata": {
    "id": "E9uOH942rNZ_"
   },
   "outputs": [],
   "source": [
    "y=list(df['rating'])"
   ]
  },
  {
   "cell_type": "code",
   "execution_count": 11,
   "id": "6c521e4c",
   "metadata": {
    "id": "6c521e4c"
   },
   "outputs": [],
   "source": [
    "# Independent Feature\n",
    "X = list(df['review'])"
   ]
  },
  {
   "cell_type": "code",
   "execution_count": 12,
   "id": "15203619",
   "metadata": {
    "id": "15203619"
   },
   "outputs": [],
   "source": [
    "# Dependent Feature\n",
    "y = list(df['rating'])"
   ]
  },
  {
   "cell_type": "code",
   "execution_count": 13,
   "id": "1cf8655c",
   "metadata": {
    "colab": {
     "base_uri": "https://localhost:8080/"
    },
    "id": "1cf8655c",
    "outputId": "8a9df7e6-8521-49c9-8e5d-4277fab9874c"
   },
   "outputs": [
    {
     "data": {
      "text/plain": [
       "['negative',\n",
       " 'positive',\n",
       " 'negative',\n",
       " 'negative',\n",
       " 'negative',\n",
       " 'negative',\n",
       " 'negative',\n",
       " 'positive',\n",
       " 'positive',\n",
       " 'negative']"
      ]
     },
     "execution_count": 13,
     "metadata": {},
     "output_type": "execute_result"
    }
   ],
   "source": [
    "y[:10]"
   ]
  },
  {
   "cell_type": "code",
   "execution_count": 14,
   "id": "655fdfbd",
   "metadata": {
    "colab": {
     "base_uri": "https://localhost:8080/",
     "height": 423
    },
    "id": "655fdfbd",
    "outputId": "7f7c2097-65aa-4e81-f64d-f841516ccdb4"
   },
   "outputs": [
    {
     "data": {
      "text/html": [
       "\n",
       "  <div id=\"df-ad4be979-729f-4334-910c-430076a207a7\">\n",
       "    <div class=\"colab-df-container\">\n",
       "      <div>\n",
       "<style scoped>\n",
       "    .dataframe tbody tr th:only-of-type {\n",
       "        vertical-align: middle;\n",
       "    }\n",
       "\n",
       "    .dataframe tbody tr th {\n",
       "        vertical-align: top;\n",
       "    }\n",
       "\n",
       "    .dataframe thead th {\n",
       "        text-align: right;\n",
       "    }\n",
       "</style>\n",
       "<table border=\"1\" class=\"dataframe\">\n",
       "  <thead>\n",
       "    <tr style=\"text-align: right;\">\n",
       "      <th></th>\n",
       "      <th>positive</th>\n",
       "    </tr>\n",
       "  </thead>\n",
       "  <tbody>\n",
       "    <tr>\n",
       "      <th>0</th>\n",
       "      <td>0</td>\n",
       "    </tr>\n",
       "    <tr>\n",
       "      <th>1</th>\n",
       "      <td>1</td>\n",
       "    </tr>\n",
       "    <tr>\n",
       "      <th>2</th>\n",
       "      <td>0</td>\n",
       "    </tr>\n",
       "    <tr>\n",
       "      <th>3</th>\n",
       "      <td>0</td>\n",
       "    </tr>\n",
       "    <tr>\n",
       "      <th>4</th>\n",
       "      <td>0</td>\n",
       "    </tr>\n",
       "    <tr>\n",
       "      <th>...</th>\n",
       "      <td>...</td>\n",
       "    </tr>\n",
       "    <tr>\n",
       "      <th>995</th>\n",
       "      <td>1</td>\n",
       "    </tr>\n",
       "    <tr>\n",
       "      <th>996</th>\n",
       "      <td>0</td>\n",
       "    </tr>\n",
       "    <tr>\n",
       "      <th>997</th>\n",
       "      <td>1</td>\n",
       "    </tr>\n",
       "    <tr>\n",
       "      <th>998</th>\n",
       "      <td>1</td>\n",
       "    </tr>\n",
       "    <tr>\n",
       "      <th>999</th>\n",
       "      <td>0</td>\n",
       "    </tr>\n",
       "  </tbody>\n",
       "</table>\n",
       "<p>1000 rows × 1 columns</p>\n",
       "</div>\n",
       "      <button class=\"colab-df-convert\" onclick=\"convertToInteractive('df-ad4be979-729f-4334-910c-430076a207a7')\"\n",
       "              title=\"Convert this dataframe to an interactive table.\"\n",
       "              style=\"display:none;\">\n",
       "        \n",
       "  <svg xmlns=\"http://www.w3.org/2000/svg\" height=\"24px\"viewBox=\"0 0 24 24\"\n",
       "       width=\"24px\">\n",
       "    <path d=\"M0 0h24v24H0V0z\" fill=\"none\"/>\n",
       "    <path d=\"M18.56 5.44l.94 2.06.94-2.06 2.06-.94-2.06-.94-.94-2.06-.94 2.06-2.06.94zm-11 1L8.5 8.5l.94-2.06 2.06-.94-2.06-.94L8.5 2.5l-.94 2.06-2.06.94zm10 10l.94 2.06.94-2.06 2.06-.94-2.06-.94-.94-2.06-.94 2.06-2.06.94z\"/><path d=\"M17.41 7.96l-1.37-1.37c-.4-.4-.92-.59-1.43-.59-.52 0-1.04.2-1.43.59L10.3 9.45l-7.72 7.72c-.78.78-.78 2.05 0 2.83L4 21.41c.39.39.9.59 1.41.59.51 0 1.02-.2 1.41-.59l7.78-7.78 2.81-2.81c.8-.78.8-2.07 0-2.86zM5.41 20L4 18.59l7.72-7.72 1.47 1.35L5.41 20z\"/>\n",
       "  </svg>\n",
       "      </button>\n",
       "      \n",
       "  <style>\n",
       "    .colab-df-container {\n",
       "      display:flex;\n",
       "      flex-wrap:wrap;\n",
       "      gap: 12px;\n",
       "    }\n",
       "\n",
       "    .colab-df-convert {\n",
       "      background-color: #E8F0FE;\n",
       "      border: none;\n",
       "      border-radius: 50%;\n",
       "      cursor: pointer;\n",
       "      display: none;\n",
       "      fill: #1967D2;\n",
       "      height: 32px;\n",
       "      padding: 0 0 0 0;\n",
       "      width: 32px;\n",
       "    }\n",
       "\n",
       "    .colab-df-convert:hover {\n",
       "      background-color: #E2EBFA;\n",
       "      box-shadow: 0px 1px 2px rgba(60, 64, 67, 0.3), 0px 1px 3px 1px rgba(60, 64, 67, 0.15);\n",
       "      fill: #174EA6;\n",
       "    }\n",
       "\n",
       "    [theme=dark] .colab-df-convert {\n",
       "      background-color: #3B4455;\n",
       "      fill: #D2E3FC;\n",
       "    }\n",
       "\n",
       "    [theme=dark] .colab-df-convert:hover {\n",
       "      background-color: #434B5C;\n",
       "      box-shadow: 0px 1px 3px 1px rgba(0, 0, 0, 0.15);\n",
       "      filter: drop-shadow(0px 1px 2px rgba(0, 0, 0, 0.3));\n",
       "      fill: #FFFFFF;\n",
       "    }\n",
       "  </style>\n",
       "\n",
       "      <script>\n",
       "        const buttonEl =\n",
       "          document.querySelector('#df-ad4be979-729f-4334-910c-430076a207a7 button.colab-df-convert');\n",
       "        buttonEl.style.display =\n",
       "          google.colab.kernel.accessAllowed ? 'block' : 'none';\n",
       "\n",
       "        async function convertToInteractive(key) {\n",
       "          const element = document.querySelector('#df-ad4be979-729f-4334-910c-430076a207a7');\n",
       "          const dataTable =\n",
       "            await google.colab.kernel.invokeFunction('convertToInteractive',\n",
       "                                                     [key], {});\n",
       "          if (!dataTable) return;\n",
       "\n",
       "          const docLinkHtml = 'Like what you see? Visit the ' +\n",
       "            '<a target=\"_blank\" href=https://colab.research.google.com/notebooks/data_table.ipynb>data table notebook</a>'\n",
       "            + ' to learn more about interactive tables.';\n",
       "          element.innerHTML = '';\n",
       "          dataTable['output_type'] = 'display_data';\n",
       "          await google.colab.output.renderOutput(dataTable, element);\n",
       "          const docLink = document.createElement('div');\n",
       "          docLink.innerHTML = docLinkHtml;\n",
       "          element.appendChild(docLink);\n",
       "        }\n",
       "      </script>\n",
       "    </div>\n",
       "  </div>\n",
       "  "
      ],
      "text/plain": [
       "     positive\n",
       "0           0\n",
       "1           1\n",
       "2           0\n",
       "3           0\n",
       "4           0\n",
       "..        ...\n",
       "995         1\n",
       "996         0\n",
       "997         1\n",
       "998         1\n",
       "999         0\n",
       "\n",
       "[1000 rows x 1 columns]"
      ]
     },
     "execution_count": 14,
     "metadata": {},
     "output_type": "execute_result"
    }
   ],
   "source": [
    "pd.get_dummies(y,drop_first=True)"
   ]
  },
  {
   "cell_type": "markdown",
   "id": "73738eb5",
   "metadata": {},
   "source": [
    "Encoding **y**"
   ]
  },
  {
   "cell_type": "code",
   "execution_count": 15,
   "id": "d5f60785",
   "metadata": {
    "id": "d5f60785"
   },
   "outputs": [],
   "source": [
    "y = list(pd.get_dummies(y,drop_first=True)['positive'])"
   ]
  },
  {
   "cell_type": "code",
   "execution_count": 16,
   "id": "4597d14c",
   "metadata": {
    "colab": {
     "base_uri": "https://localhost:8080/"
    },
    "id": "4597d14c",
    "outputId": "f0c5d991-b999-4dfa-b7df-ece903266cfd",
    "scrolled": true
   },
   "outputs": [
    {
     "data": {
      "text/plain": [
       "[0, 1, 0, 0, 0, 0, 0, 1, 1, 0]"
      ]
     },
     "execution_count": 16,
     "metadata": {},
     "output_type": "execute_result"
    }
   ],
   "source": [
    "y[:10]"
   ]
  },
  {
   "cell_type": "markdown",
   "id": "b1431951",
   "metadata": {
    "id": "b1431951"
   },
   "source": [
    "# 2. Split the dataset into training (at least 160examples) and test (at least 40 examples) sets."
   ]
  },
  {
   "cell_type": "code",
   "execution_count": 17,
   "id": "8155c21c",
   "metadata": {
    "id": "8155c21c"
   },
   "outputs": [],
   "source": [
    "from sklearn.model_selection import train_test_split\n",
    "\n",
    "# split the dataset into training (80%) and test (20%) sets\n",
    "X_train, X_test, y_train, y_test = train_test_split(X, y, test_size=0.2, random_state=0)"
   ]
  },
  {
   "cell_type": "code",
   "execution_count": 31,
   "id": "38390fc3",
   "metadata": {},
   "outputs": [
    {
     "data": {
      "text/plain": [
       "800"
      ]
     },
     "execution_count": 31,
     "metadata": {},
     "output_type": "execute_result"
    }
   ],
   "source": [
    "len(X_train)"
   ]
  },
  {
   "cell_type": "code",
   "execution_count": 32,
   "id": "01aeaf7d",
   "metadata": {},
   "outputs": [
    {
     "data": {
      "text/plain": [
       "200"
      ]
     },
     "execution_count": 32,
     "metadata": {},
     "output_type": "execute_result"
    }
   ],
   "source": [
    "len(X_test)"
   ]
  },
  {
   "cell_type": "code",
   "execution_count": 33,
   "id": "a7079c44",
   "metadata": {},
   "outputs": [
    {
     "data": {
      "text/plain": [
       "800"
      ]
     },
     "execution_count": 33,
     "metadata": {},
     "output_type": "execute_result"
    }
   ],
   "source": [
    "len(y_train)"
   ]
  },
  {
   "cell_type": "code",
   "execution_count": 34,
   "id": "02f22885",
   "metadata": {},
   "outputs": [
    {
     "data": {
      "text/plain": [
       "200"
      ]
     },
     "execution_count": 34,
     "metadata": {},
     "output_type": "execute_result"
    }
   ],
   "source": [
    "len(y_test)"
   ]
  },
  {
   "cell_type": "code",
   "execution_count": 18,
   "id": "77125bd4",
   "metadata": {
    "colab": {
     "base_uri": "https://localhost:8080/"
    },
    "id": "77125bd4",
    "outputId": "e59063bf-0049-4672-bd28-77e66358c56b"
   },
   "outputs": [
    {
     "data": {
      "text/plain": [
       "[\"I've seen this film twice and it still grips me.First off, Scott (Paul Rudd) has excellent chemistry with everyone. The way Hope shines alongside him as they fight together really shows how much a heroine she is, even though the original Wasp gets more fleshed-out here than she (which is fine, because it was Janet's turn for that). And in all his interaction with Cassie, the love feels real, the frustration feels real, and the camaraderie is 100% consistent with where her character was when she was young. I'm amazed at how much attention was paid to dramatic detail and character-arc continuity. (Some recent MCU releases have lacked in those areas.)Also, I genuinely appreciated that Scott didn't fully learn the lesson Cassie sought to instill in him (caring about the plight of strangers just as much as family members), so this leaves room for his character arc. I'm glad it wasn't instant-morality-learned-in-a-snap. And in subtle ways, she also saw that her naïveté lacked wisdom and planning. She had a lot of heart, but needed practicality. Again, room for character growth, and it was beautiful to see so much of that explored in an action film.And there were some other things left open, that I won't get into here, so I'll just say how much I appreciated that. Too many superhero movies wrap everything up in a nice little bow by the end.Finally, I loved how the movie didn't get bogged down in attempts at humor. To me it was just the right amount, and almost always felt natural. The acting chops of the cast certainly helped.Excited to see where the story goes next!\",\n",
       " \".........and that literally is a line from the film, summing up how the MCU has become since Covid hit the world. Disney are now jumping the shark 31 films into the universe......Scott Lang and Hope Van Dyne return to continue their adventures as Ant-Man and The Wasp. Together, with Hope's parents Janet and Hank Pym, and Scott's daughter Cassie Lang, the family finds themselves exploring the pretty redundant Quantum Realm, interacting with strange new CGI creatures, and monstrosities, and embarking on an adventure that will push them beyond the limits of boredom, and what they thought possible.I love Ant-Man. The first two films were so so different to anything that Marvel had released, and Paul Rudd was amazing as the titular hero. It has humour that no other Marvel humour had, it was childish, and it was all the better for it. It dared to be different, and the payoff was something fresh, even when the marvel behemoth was becoming a little tired, especially after the debacle that was Age Of Ultron. If Wright wasn't given the cold shoulder, we could be watching something different, and while i don't think the blame should be placed on Reed's shoulders, the studio had the final say, it just doesn't have the panache that the first film had.It's boring, and dull, and the effects all meld into one after a while. It's like the makers have taken the cantina scene from A New Hope, and decided to make a whole movie surrounding it, adding a supposed bigger adversary than Thaos. Kang is not that villain. Majors seems to be homing his most campest bone in his body, as there is nothing remotely sinister about his character, he just tells people to shut up, and make their costumes slightly tighter. Add a worthless cameo from Murray, and what on earth did they do with M. O. D. O. K? And you have a Marvel film that lays in the bowels on the MCU along with Eternals, Love and Thunder, and The Dark World.Douglas and Pfeiffer are unforgivably wasted in this, Douglas there because of something that happens at the end with the ants, and Pfeieffer just there to tell the story of Kang. Little support is offered, aside from a guy who can read minds who's one running joke wears really thin, and a Valkyries wannabe. This was the franchise in the MCU that i wanted to succeed, because Rudd is just so brilliant and funny in his role. Here, he is just a one dimensional hero who multiplies to become even more unfunny versions of himself.It's a real shame, really a shame, but hey, the MCU has has the Taika touch, and we all now he really isn't that good.I have really low expectations now for the rest of phase 5.And 6, and 7.This will go on forever.......Help us.\",\n",
       " \"Does this film have problems. Yeah, and are the obvious? Yeah, but is this film fun? Absolutely. For this film to have such a low rotten tomatoes score shocks me. I thought Antman And The Wasp Quantumania was going to suck, but it actually wasn't horrible. For one, Jonathan Majors steals the show as Kang. He delivers a powerful performance and runs the movie the entire time. And the entire film reminds me a bit of Star Wars so thats a plus. The main problem to me is the ending and the crazy amount of plot conveniences and basic pure stupidity put in this film. I think they needed to explain somethings in this film and fix its ending to fully pull me in to the Quantum world. But overall, this was still at its central core, a fun enough, enjoyable marvel film. And at the streak marvel has been going. This film is more of a plus then a minus.\",\n",
       " \"Trash beyond anything I could ever imagine. They should give refunds to everyone who went to see this garbage.The most unlikable characters the MCU has ever produced. The movie only has two types of characters: annoying girl-boss and annoying pathetic loser. These characters aren't relatable because these are the type of people you run away from on the street.Let's dump 300million into the CGI vomit machine and hope no one realizes how terrible the movie is. This is the grand strategy behind the geniuses at Marvel. It's sad and pathetic.I'm giving this a 1/10 because it has no value, and I left the theater in a worse state than I went in.\",\n",
       " \"The first two Ant Man movies the quantum realm was talked about, but in Quantumania we now see it first hand. Scott and family find themselves pulled into the quantum realm, only to discover it's also another universe, and Janets past quickly comes back to haunt her.Jonathan Majors really blew me away has the villian Kang, givin a type Darth Vader like performance, even with his calmness you clearly see the insanity in him. Paul Rudd once again brings likable comic charm, Michael Douglas was good, so was Evanegline Lilly and Michelle Pfieffer. Sometimes Kathryn Newton was annoying , but other times she was good. The effects are awesome, I love the star wars like adventure.\"]"
      ]
     },
     "execution_count": 18,
     "metadata": {},
     "output_type": "execute_result"
    }
   ],
   "source": [
    "X_train[:5]"
   ]
  },
  {
   "cell_type": "code",
   "execution_count": 19,
   "id": "32a5c9e0",
   "metadata": {
    "colab": {
     "base_uri": "https://localhost:8080/"
    },
    "id": "32a5c9e0",
    "outputId": "88a21361-b1a8-47f1-f13d-d87868471957"
   },
   "outputs": [
    {
     "data": {
      "text/plain": [
       "[1, 0, 1, 0, 1]"
      ]
     },
     "execution_count": 19,
     "metadata": {},
     "output_type": "execute_result"
    }
   ],
   "source": [
    "y_train[:5]"
   ]
  },
  {
   "cell_type": "markdown",
   "id": "2955e219",
   "metadata": {
    "id": "2955e219"
   },
   "source": [
    "# 3. Fine tune a pretrained language model capable of generating text (e.g., GPT) that you can take from the Hugging Face Transformers library with the dataset your created (I suggest using this tutorial: https://huggingface.co/docs/transformers/training). Report the test accuracy. Discuss what could be done to improve accuracy."
   ]
  },
  {
   "cell_type": "markdown",
   "id": "60721f78",
   "metadata": {},
   "source": [
    "#### Since we are doing sentiment analysis on the data, we used Distilbert-base-uncased model "
   ]
  },
  {
   "cell_type": "code",
   "execution_count": 20,
   "id": "85668023",
   "metadata": {
    "id": "85668023"
   },
   "outputs": [],
   "source": [
    "from transformers import DistilBertTokenizerFast\n",
    "tokenizer = DistilBertTokenizerFast.from_pretrained('distilbert-base-uncased')"
   ]
  },
  {
   "cell_type": "markdown",
   "id": "e45ceb36",
   "metadata": {},
   "source": [
    "Tokenizing the train data "
   ]
  },
  {
   "cell_type": "code",
   "execution_count": 21,
   "id": "5ad98535",
   "metadata": {
    "id": "5ad98535"
   },
   "outputs": [],
   "source": [
    "train_encoding = tokenizer(X_train, truncation=True, padding=True)\n",
    "test_encoding = tokenizer(X_test, truncation=True, padding=True)"
   ]
  },
  {
   "cell_type": "markdown",
   "id": "55011a0b",
   "metadata": {
    "id": "55011a0b"
   },
   "source": [
    "Convert these encodings into dataset objects "
   ]
  },
  {
   "cell_type": "code",
   "execution_count": 22,
   "id": "57d98ff7",
   "metadata": {
    "id": "57d98ff7"
   },
   "outputs": [],
   "source": [
    "import tensorflow as tf\n",
    "\n",
    "train_dataset = tf.data.Dataset.from_tensor_slices((\n",
    "    dict(train_encoding),\n",
    "    y_train\n",
    "))\n",
    "\n",
    "test_dataset = tf.data.Dataset.from_tensor_slices((\n",
    "    dict(test_encoding),\n",
    "    y_test\n",
    "))\n",
    "    "
   ]
  },
  {
   "cell_type": "code",
   "execution_count": 23,
   "id": "d6e70048",
   "metadata": {
    "colab": {
     "base_uri": "https://localhost:8080/"
    },
    "id": "d6e70048",
    "outputId": "d50d506b-dba8-4d50-e27a-562906aedf6c"
   },
   "outputs": [
    {
     "data": {
      "text/plain": [
       "<_TensorSliceDataset element_spec=({'input_ids': TensorSpec(shape=(512,), dtype=tf.int32, name=None), 'attention_mask': TensorSpec(shape=(512,), dtype=tf.int32, name=None)}, TensorSpec(shape=(), dtype=tf.int32, name=None))>"
      ]
     },
     "execution_count": 23,
     "metadata": {},
     "output_type": "execute_result"
    }
   ],
   "source": [
    "train_dataset"
   ]
  },
  {
   "cell_type": "markdown",
   "id": "95f495e6",
   "metadata": {},
   "source": [
    "Defining training arguments for fine tuning "
   ]
  },
  {
   "cell_type": "code",
   "execution_count": 24,
   "id": "94681e31",
   "metadata": {
    "id": "94681e31"
   },
   "outputs": [],
   "source": [
    "from transformers import TFDistilBertForSequenceClassification, TFTrainer, TFTrainingArguments\n",
    "\n",
    "training_args = TFTrainingArguments(\n",
    "    output_dir='./results',          # output directory\n",
    "    num_train_epochs=2,              # number of epochs\n",
    "    per_device_train_batch_size=8,\n",
    "    per_device_eval_batch_size=16,\n",
    "    warmup_steps=500,                # warmup steps\n",
    "    weight_decay=0.01,\n",
    "    logging_dir='./logs',            # directory for storing logs\n",
    "    logging_steps=10,\n",
    "    eval_steps = 10,\n",
    ")"
   ]
  },
  {
   "cell_type": "markdown",
   "id": "0c8d197a",
   "metadata": {},
   "source": [
    "Defining the trainer for the model "
   ]
  },
  {
   "cell_type": "code",
   "execution_count": 25,
   "id": "9c74397f",
   "metadata": {
    "colab": {
     "base_uri": "https://localhost:8080/"
    },
    "id": "9c74397f",
    "outputId": "2329ea52-545e-4dac-8bbf-3b533364e8eb"
   },
   "outputs": [
    {
     "name": "stderr",
     "output_type": "stream",
     "text": [
      "Some layers from the model checkpoint at distilbert-base-uncased were not used when initializing TFDistilBertForSequenceClassification: ['vocab_projector', 'vocab_layer_norm', 'vocab_transform', 'activation_13']\n",
      "- This IS expected if you are initializing TFDistilBertForSequenceClassification from the checkpoint of a model trained on another task or with another architecture (e.g. initializing a BertForSequenceClassification model from a BertForPreTraining model).\n",
      "- This IS NOT expected if you are initializing TFDistilBertForSequenceClassification from the checkpoint of a model that you expect to be exactly identical (initializing a BertForSequenceClassification model from a BertForSequenceClassification model).\n",
      "Some layers of TFDistilBertForSequenceClassification were not initialized from the model checkpoint at distilbert-base-uncased and are newly initialized: ['classifier', 'pre_classifier', 'dropout_19']\n",
      "You should probably TRAIN this model on a down-stream task to be able to use it for predictions and inference.\n",
      "/usr/local/lib/python3.9/dist-packages/transformers/trainer_tf.py:118: FutureWarning: The class `TFTrainer` is deprecated and will be removed in version 5 of Transformers. We recommend using native Keras instead, by calling methods like `fit()` and `predict()` directly on the model object. Detailed examples of the Keras style can be found in our examples at https://github.com/huggingface/transformers/tree/main/examples/tensorflow\n",
      "  warnings.warn(\n"
     ]
    }
   ],
   "source": [
    "with training_args.strategy.scope():\n",
    "    model = TFDistilBertForSequenceClassification.from_pretrained(\"distilbert-base-uncased\")\n",
    "\n",
    "trainer = TFTrainer(\n",
    "    model=model,                         # Transformers model to be trained\n",
    "    args=training_args,                  # training arguments\n",
    "    train_dataset=train_dataset,         # training dataset\n",
    "    eval_dataset=test_dataset             # evaluation dataset\n",
    ")\n"
   ]
  },
  {
   "cell_type": "markdown",
   "id": "0ba1c679",
   "metadata": {},
   "source": [
    "Training the data on the model "
   ]
  },
  {
   "cell_type": "code",
   "execution_count": 26,
   "id": "HuYZ0djjsKSt",
   "metadata": {
    "colab": {
     "base_uri": "https://localhost:8080/"
    },
    "id": "HuYZ0djjsKSt",
    "outputId": "c1ce6bbb-f30f-4170-aee5-4def8278b9a0"
   },
   "outputs": [
    {
     "name": "stdout",
     "output_type": "stream",
     "text": [
      "CPU times: user 1min 27s, sys: 5.03 s, total: 1min 32s\n",
      "Wall time: 1min 42s\n"
     ]
    }
   ],
   "source": [
    "%%time\n",
    "trainer.train()"
   ]
  },
  {
   "cell_type": "markdown",
   "id": "20430e1b",
   "metadata": {},
   "source": [
    "Evaluating the dataset with test dataset "
   ]
  },
  {
   "cell_type": "code",
   "execution_count": 27,
   "id": "32ad0ecb",
   "metadata": {
    "colab": {
     "base_uri": "https://localhost:8080/"
    },
    "id": "32ad0ecb",
    "outputId": "459639e4-80c2-4d3b-869b-057b14493796"
   },
   "outputs": [
    {
     "data": {
      "text/plain": [
       "{'eval_loss': 0.07999256940988395}"
      ]
     },
     "execution_count": 27,
     "metadata": {},
     "output_type": "execute_result"
    }
   ],
   "source": [
    "# Evaluating loss\n",
    "trainer.evaluate(test_dataset)"
   ]
  },
  {
   "cell_type": "code",
   "execution_count": 28,
   "id": "27eb0ce7",
   "metadata": {
    "colab": {
     "base_uri": "https://localhost:8080/"
    },
    "id": "27eb0ce7",
    "outputId": "54be0039-4bd2-4e18-c47f-28a4c266e1d6"
   },
   "outputs": [
    {
     "data": {
      "text/plain": [
       "array([1, 0, 0, 1, 0, 1, 1, 0, 1, 1, 1, 1, 1, 1, 1, 1, 0, 1, 1, 0, 1, 1,\n",
       "       1, 0, 1, 0, 1, 0, 1, 1, 0, 1, 1, 1, 1, 1, 1, 1, 1, 1, 1, 0, 1, 1,\n",
       "       0, 0, 0, 1, 1, 0, 0, 1, 0, 1, 0, 1, 0, 0, 1, 1, 0, 0, 1, 0, 0, 1,\n",
       "       1, 0, 0, 1, 1, 1, 1, 1, 0, 0, 1, 1, 1, 1, 0, 1, 1, 0, 0, 0, 1, 0,\n",
       "       0, 1, 0, 0, 1, 1, 1, 0, 1, 1, 1, 1, 0, 1, 1, 1, 0, 1, 0, 0, 1, 1,\n",
       "       0, 1, 0, 0, 1, 1, 1, 1, 1, 1, 1, 1, 1, 0, 0, 0, 1, 1, 0, 1, 1, 0,\n",
       "       1, 0, 1, 1, 1, 1, 1, 0, 0, 1, 0, 1, 0, 1, 0, 1, 0, 1, 0, 1, 0, 1,\n",
       "       1, 1, 1, 1, 0, 0, 0, 0, 1, 1, 1, 1, 1, 1, 1, 1, 1, 1, 1, 1, 0, 1,\n",
       "       1, 1, 0, 1, 1, 0, 1, 1, 0, 1, 1, 1, 1, 1, 1, 0, 1, 0, 0, 0, 0, 1,\n",
       "       1, 0], dtype=int32)"
      ]
     },
     "execution_count": 28,
     "metadata": {},
     "output_type": "execute_result"
    }
   ],
   "source": [
    "prediction = trainer.predict(test_dataset)\n",
    "prediction[1]"
   ]
  },
  {
   "cell_type": "markdown",
   "id": "393b4688",
   "metadata": {},
   "source": [
    "Confusion Matrix "
   ]
  },
  {
   "cell_type": "code",
   "execution_count": 29,
   "id": "df5b09e1",
   "metadata": {
    "colab": {
     "base_uri": "https://localhost:8080/"
    },
    "id": "df5b09e1",
    "outputId": "48a6bdce-b398-4aa6-9f1d-ac53a9d7a53c"
   },
   "outputs": [
    {
     "data": {
      "text/plain": [
       "array([[ 72,   0],\n",
       "       [  0, 128]])"
      ]
     },
     "execution_count": 29,
     "metadata": {},
     "output_type": "execute_result"
    }
   ],
   "source": [
    "from sklearn.metrics import confusion_matrix\n",
    "\n",
    "matrix=confusion_matrix(y_test,prediction[1])\n",
    "matrix"
   ]
  },
  {
   "cell_type": "markdown",
   "id": "284b62dc",
   "metadata": {},
   "source": [
    "Storing the model as antman_sentiment_analysis_model"
   ]
  },
  {
   "cell_type": "code",
   "execution_count": 30,
   "id": "d60b47d2",
   "metadata": {
    "id": "d60b47d2"
   },
   "outputs": [],
   "source": [
    "trainer.save_model('antman_sentiment_analysis_model')"
   ]
  },
  {
   "cell_type": "markdown",
   "id": "950becbc",
   "metadata": {},
   "source": [
    "As we can see from the confusion matrix, the model has almost 100% accuracy for test dataset size of 200. In any other case, we can increase accuracy of a model by tweeking the parameters a little, for example, increasing the number of epochs or increasing the number of evaluation steps. "
   ]
  }
 ],
 "metadata": {
  "accelerator": "GPU",
  "colab": {
   "provenance": []
  },
  "gpuClass": "standard",
  "kernelspec": {
   "display_name": "Python 3 (ipykernel)",
   "language": "python",
   "name": "python3"
  },
  "language_info": {
   "codemirror_mode": {
    "name": "ipython",
    "version": 3
   },
   "file_extension": ".py",
   "mimetype": "text/x-python",
   "name": "python",
   "nbconvert_exporter": "python",
   "pygments_lexer": "ipython3",
   "version": "3.9.12"
  }
 },
 "nbformat": 4,
 "nbformat_minor": 5
}
